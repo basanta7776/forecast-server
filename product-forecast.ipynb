{
 "cells": [
  {
   "cell_type": "code",
   "execution_count": null,
   "metadata": {
    "_cell_guid": "b1076dfc-b9ad-4769-8c92-a6c4dae69d19",
    "_uuid": "8f2839f25d086af736a60e9eeb907d3b93b6e0e5",
    "execution": {
     "iopub.execute_input": "2025-02-24T11:41:52.067292Z",
     "iopub.status.busy": "2025-02-24T11:41:52.066842Z",
     "iopub.status.idle": "2025-02-24T11:41:52.087528Z",
     "shell.execute_reply": "2025-02-24T11:41:52.086467Z",
     "shell.execute_reply.started": "2025-02-24T11:41:52.067257Z"
    },
    "trusted": true
   },
   "outputs": [],
   "source": [
    "import numpy as np # linear algebra\n",
    "import pandas as pd # data processing, CSV file I/O (e.g. pd.read_csv)\n",
    "import matplotlib.pyplot as plt\n",
    "import warnings \n",
    "warnings.filterwarnings('ignore')\n",
    "import os\n",
    "for dirname, _, filenames in os.walk('/kaggle/input'):\n",
    "    for filename in filenames:\n",
    "        print(os.path.join(dirname, filename))"
   ]
  },
  {
   "cell_type": "code",
   "execution_count": null,
   "metadata": {
    "execution": {
     "iopub.execute_input": "2025-02-24T11:41:52.089453Z",
     "iopub.status.busy": "2025-02-24T11:41:52.089019Z",
     "iopub.status.idle": "2025-02-24T11:41:52.196492Z",
     "shell.execute_reply": "2025-02-24T11:41:52.195444Z",
     "shell.execute_reply.started": "2025-02-24T11:41:52.089421Z"
    },
    "trusted": true
   },
   "outputs": [],
   "source": [
    "import kagglehub\n",
    "\n",
    "# Download latest version\n",
    "path = kagglehub.dataset_download(\"atharvjairath/flipkart-ecommerce-dataset\")\n",
    "\n",
    "print(\"Path to dataset files:\", path)"
   ]
  },
  {
   "cell_type": "code",
   "execution_count": null,
   "metadata": {
    "execution": {
     "iopub.execute_input": "2025-02-24T11:41:52.198733Z",
     "iopub.status.busy": "2025-02-24T11:41:52.198465Z",
     "iopub.status.idle": "2025-02-24T11:41:53.033751Z",
     "shell.execute_reply": "2025-02-24T11:41:53.032724Z",
     "shell.execute_reply.started": "2025-02-24T11:41:52.198708Z"
    },
    "trusted": true
   },
   "outputs": [],
   "source": [
    "df = pd.read_csv(\"/kaggle/input/flipkart-ecommerce-dataset/flipkart_com-ecommerce_sample.csv\")\n",
    "df.info()"
   ]
  },
  {
   "cell_type": "code",
   "execution_count": null,
   "metadata": {
    "execution": {
     "iopub.execute_input": "2025-02-24T11:41:53.035775Z",
     "iopub.status.busy": "2025-02-24T11:41:53.035482Z",
     "iopub.status.idle": "2025-02-24T11:41:53.056211Z",
     "shell.execute_reply": "2025-02-24T11:41:53.055164Z",
     "shell.execute_reply.started": "2025-02-24T11:41:53.035741Z"
    },
    "trusted": true
   },
   "outputs": [],
   "source": [
    "df.head()"
   ]
  },
  {
   "cell_type": "code",
   "execution_count": null,
   "metadata": {
    "execution": {
     "iopub.execute_input": "2025-02-24T11:41:53.057634Z",
     "iopub.status.busy": "2025-02-24T11:41:53.057262Z",
     "iopub.status.idle": "2025-02-24T11:41:53.101527Z",
     "shell.execute_reply": "2025-02-24T11:41:53.100425Z",
     "shell.execute_reply.started": "2025-02-24T11:41:53.057600Z"
    },
    "trusted": true
   },
   "outputs": [],
   "source": [
    "df.isnull().sum()"
   ]
  },
  {
   "cell_type": "markdown",
   "metadata": {},
   "source": [
    "### Handling missing values"
   ]
  },
  {
   "cell_type": "code",
   "execution_count": null,
   "metadata": {
    "execution": {
     "iopub.execute_input": "2025-02-24T11:41:53.103005Z",
     "iopub.status.busy": "2025-02-24T11:41:53.102623Z",
     "iopub.status.idle": "2025-02-24T11:41:53.117081Z",
     "shell.execute_reply": "2025-02-24T11:41:53.115973Z",
     "shell.execute_reply.started": "2025-02-24T11:41:53.102941Z"
    },
    "trusted": true
   },
   "outputs": [],
   "source": [
    "df[\"brand\"].head()"
   ]
  },
  {
   "cell_type": "code",
   "execution_count": null,
   "metadata": {
    "execution": {
     "iopub.execute_input": "2025-02-24T11:41:53.118606Z",
     "iopub.status.busy": "2025-02-24T11:41:53.118122Z",
     "iopub.status.idle": "2025-02-24T11:41:53.137096Z",
     "shell.execute_reply": "2025-02-24T11:41:53.136009Z",
     "shell.execute_reply.started": "2025-02-24T11:41:53.118567Z"
    },
    "trusted": true
   },
   "outputs": [],
   "source": [
    "df[\"brand\"].value_counts()"
   ]
  },
  {
   "cell_type": "code",
   "execution_count": null,
   "metadata": {
    "execution": {
     "iopub.execute_input": "2025-02-24T11:41:53.140905Z",
     "iopub.status.busy": "2025-02-24T11:41:53.140519Z",
     "iopub.status.idle": "2025-02-24T11:41:53.156817Z",
     "shell.execute_reply": "2025-02-24T11:41:53.155603Z",
     "shell.execute_reply.started": "2025-02-24T11:41:53.140869Z"
    },
    "trusted": true
   },
   "outputs": [],
   "source": [
    "df['image'].fillna('[\"http://img5a.flixcart.com/image/short/u/4/a/altht-3p-21-alisha-38-original-imaeh2d5vm5zbtgg.jpeg\", \"http://img5a.flixcart.com/image/short/p/j/z/altght4p-26-alisha-38-original-imaeh2d5kbufss6n.jpeg\", \"http://img5a.flixcart.com/image/short/p/j/z/altght4p-26-alisha-38-original-imaeh2d5npdybzyt.jpeg\", \"http://img5a.flixcart.com/image/short/z/j/7/altght-7-alisha-38-original-imaeh2d5jsz2ghd6.jpeg\"]',inplace = True)"
   ]
  },
  {
   "cell_type": "code",
   "execution_count": null,
   "metadata": {
    "execution": {
     "iopub.execute_input": "2025-02-24T11:41:53.159293Z",
     "iopub.status.busy": "2025-02-24T11:41:53.158892Z",
     "iopub.status.idle": "2025-02-24T11:41:53.184644Z",
     "shell.execute_reply": "2025-02-24T11:41:53.183457Z",
     "shell.execute_reply.started": "2025-02-24T11:41:53.159253Z"
    },
    "trusted": true
   },
   "outputs": [],
   "source": [
    "df['product_specifications'].fillna(\"\",inplace =True)\n",
    "df['description'].fillna(\"\",inplace =True)\n",
    "df[\"brand\"].fillna(\"Allure Auto\", inplace =True)"
   ]
  },
  {
   "cell_type": "code",
   "execution_count": null,
   "metadata": {
    "execution": {
     "iopub.execute_input": "2025-02-24T11:41:53.186136Z",
     "iopub.status.busy": "2025-02-24T11:41:53.185806Z",
     "iopub.status.idle": "2025-02-24T11:41:53.209439Z",
     "shell.execute_reply": "2025-02-24T11:41:53.208469Z",
     "shell.execute_reply.started": "2025-02-24T11:41:53.186097Z"
    },
    "trusted": true
   },
   "outputs": [],
   "source": [
    "df['retail_price'].describe()"
   ]
  },
  {
   "cell_type": "code",
   "execution_count": null,
   "metadata": {
    "execution": {
     "iopub.execute_input": "2025-02-24T11:41:53.210990Z",
     "iopub.status.busy": "2025-02-24T11:41:53.210627Z",
     "iopub.status.idle": "2025-02-24T11:41:53.218096Z",
     "shell.execute_reply": "2025-02-24T11:41:53.217183Z",
     "shell.execute_reply.started": "2025-02-24T11:41:53.210955Z"
    },
    "trusted": true
   },
   "outputs": [],
   "source": [
    "df['retail_price'].fillna(df['retail_price'].mean(),inplace =True)\n",
    "df['discounted_price'].fillna(df['discounted_price'].mean(),inplace =True)"
   ]
  },
  {
   "cell_type": "code",
   "execution_count": null,
   "metadata": {
    "execution": {
     "iopub.execute_input": "2025-02-24T11:41:53.219537Z",
     "iopub.status.busy": "2025-02-24T11:41:53.219156Z",
     "iopub.status.idle": "2025-02-24T11:41:53.254471Z",
     "shell.execute_reply": "2025-02-24T11:41:53.253464Z",
     "shell.execute_reply.started": "2025-02-24T11:41:53.219510Z"
    },
    "trusted": true
   },
   "outputs": [],
   "source": [
    "df.isnull().sum()"
   ]
  },
  {
   "cell_type": "code",
   "execution_count": null,
   "metadata": {
    "execution": {
     "iopub.execute_input": "2025-02-24T11:41:53.256019Z",
     "iopub.status.busy": "2025-02-24T11:41:53.255661Z",
     "iopub.status.idle": "2025-02-24T11:41:53.268722Z",
     "shell.execute_reply": "2025-02-24T11:41:53.267565Z",
     "shell.execute_reply.started": "2025-02-24T11:41:53.255992Z"
    },
    "trusted": true
   },
   "outputs": [],
   "source": [
    "df.shape"
   ]
  },
  {
   "cell_type": "code",
   "execution_count": null,
   "metadata": {
    "execution": {
     "iopub.execute_input": "2025-02-24T11:41:53.270179Z",
     "iopub.status.busy": "2025-02-24T11:41:53.269766Z",
     "iopub.status.idle": "2025-02-24T11:41:53.309729Z",
     "shell.execute_reply": "2025-02-24T11:41:53.308654Z",
     "shell.execute_reply.started": "2025-02-24T11:41:53.270143Z"
    },
    "trusted": true
   },
   "outputs": [],
   "source": [
    "df =  df.dropna()\n",
    "df.shape"
   ]
  },
  {
   "cell_type": "markdown",
   "metadata": {},
   "source": [
    "## Data Processing "
   ]
  },
  {
   "cell_type": "code",
   "execution_count": null,
   "metadata": {
    "execution": {
     "iopub.execute_input": "2025-02-24T11:41:53.311100Z",
     "iopub.status.busy": "2025-02-24T11:41:53.310756Z",
     "iopub.status.idle": "2025-02-24T11:41:53.327439Z",
     "shell.execute_reply": "2025-02-24T11:41:53.326447Z",
     "shell.execute_reply.started": "2025-02-24T11:41:53.311070Z"
    },
    "trusted": true
   },
   "outputs": [],
   "source": [
    "df.head()"
   ]
  },
  {
   "cell_type": "code",
   "execution_count": null,
   "metadata": {
    "execution": {
     "iopub.execute_input": "2025-02-24T11:41:53.328712Z",
     "iopub.status.busy": "2025-02-24T11:41:53.328334Z",
     "iopub.status.idle": "2025-02-24T11:41:53.346407Z",
     "shell.execute_reply": "2025-02-24T11:41:53.345466Z",
     "shell.execute_reply.started": "2025-02-24T11:41:53.328676Z"
    },
    "trusted": true
   },
   "outputs": [],
   "source": [
    "df['overall_rating'].value_counts()"
   ]
  },
  {
   "cell_type": "code",
   "execution_count": null,
   "metadata": {
    "execution": {
     "iopub.execute_input": "2025-02-24T11:41:53.347871Z",
     "iopub.status.busy": "2025-02-24T11:41:53.347458Z",
     "iopub.status.idle": "2025-02-24T11:41:53.364668Z",
     "shell.execute_reply": "2025-02-24T11:41:53.363647Z",
     "shell.execute_reply.started": "2025-02-24T11:41:53.347834Z"
    },
    "trusted": true
   },
   "outputs": [],
   "source": [
    "df['overall_rating'] = df['overall_rating'].replace('No rating available', 0)\n",
    "df['product_rating'] = df['product_rating'].replace('No rating available', 0)"
   ]
  },
  {
   "cell_type": "code",
   "execution_count": null,
   "metadata": {
    "execution": {
     "iopub.execute_input": "2025-02-24T11:41:53.365905Z",
     "iopub.status.busy": "2025-02-24T11:41:53.365621Z",
     "iopub.status.idle": "2025-02-24T11:41:53.384654Z",
     "shell.execute_reply": "2025-02-24T11:41:53.383649Z",
     "shell.execute_reply.started": "2025-02-24T11:41:53.365878Z"
    },
    "trusted": true
   },
   "outputs": [],
   "source": [
    "df.head()"
   ]
  },
  {
   "cell_type": "code",
   "execution_count": null,
   "metadata": {
    "execution": {
     "iopub.execute_input": "2025-02-24T11:41:53.386026Z",
     "iopub.status.busy": "2025-02-24T11:41:53.385667Z",
     "iopub.status.idle": "2025-02-24T11:41:53.412942Z",
     "shell.execute_reply": "2025-02-24T11:41:53.411947Z",
     "shell.execute_reply.started": "2025-02-24T11:41:53.385992Z"
    },
    "trusted": true
   },
   "outputs": [],
   "source": [
    "from sklearn.feature_extraction.text import TfidfVectorizer\n",
    "tf = TfidfVectorizer(stop_words='english')"
   ]
  },
  {
   "cell_type": "code",
   "execution_count": null,
   "metadata": {
    "execution": {
     "iopub.execute_input": "2025-02-24T11:41:53.414367Z",
     "iopub.status.busy": "2025-02-24T11:41:53.413981Z",
     "iopub.status.idle": "2025-02-24T11:41:53.431427Z",
     "shell.execute_reply": "2025-02-24T11:41:53.430443Z",
     "shell.execute_reply.started": "2025-02-24T11:41:53.414262Z"
    },
    "trusted": true
   },
   "outputs": [],
   "source": [
    "documents = df['description']\n",
    "documents"
   ]
  },
  {
   "cell_type": "code",
   "execution_count": null,
   "metadata": {
    "execution": {
     "iopub.execute_input": "2025-02-24T11:41:53.432823Z",
     "iopub.status.busy": "2025-02-24T11:41:53.432457Z",
     "iopub.status.idle": "2025-02-24T11:41:54.567016Z",
     "shell.execute_reply": "2025-02-24T11:41:54.565990Z",
     "shell.execute_reply.started": "2025-02-24T11:41:53.432788Z"
    },
    "trusted": true
   },
   "outputs": [],
   "source": [
    "tfidf_matrix = tf.fit_transform(documents)\n"
   ]
  },
  {
   "cell_type": "code",
   "execution_count": null,
   "metadata": {
    "execution": {
     "iopub.execute_input": "2025-02-24T11:41:54.568546Z",
     "iopub.status.busy": "2025-02-24T11:41:54.568109Z",
     "iopub.status.idle": "2025-02-24T11:42:12.000934Z",
     "shell.execute_reply": "2025-02-24T11:42:11.999988Z",
     "shell.execute_reply.started": "2025-02-24T11:41:54.568510Z"
    },
    "trusted": true
   },
   "outputs": [],
   "source": [
    "\n",
    "from sklearn.metrics.pairwise import cosine_similarity\n",
    "cosine_sim = cosine_similarity(tfidf_matrix, tfidf_matrix)\n",
    "cosine_sim"
   ]
  },
  {
   "cell_type": "code",
   "execution_count": null,
   "metadata": {
    "execution": {
     "iopub.execute_input": "2025-02-24T11:42:12.005227Z",
     "iopub.status.busy": "2025-02-24T11:42:12.004919Z",
     "iopub.status.idle": "2025-02-24T11:42:12.011386Z",
     "shell.execute_reply": "2025-02-24T11:42:12.010116Z",
     "shell.execute_reply.started": "2025-02-24T11:42:12.005201Z"
    },
    "trusted": true
   },
   "outputs": [],
   "source": [
    "tfidf_matrix.shape"
   ]
  },
  {
   "cell_type": "code",
   "execution_count": null,
   "metadata": {
    "execution": {
     "iopub.execute_input": "2025-02-24T11:42:12.013060Z",
     "iopub.status.busy": "2025-02-24T11:42:12.012758Z",
     "iopub.status.idle": "2025-02-24T11:42:12.062235Z",
     "shell.execute_reply": "2025-02-24T11:42:12.061169Z",
     "shell.execute_reply.started": "2025-02-24T11:42:12.013025Z"
    },
    "trusted": true
   },
   "outputs": [],
   "source": [
    "sim_df = pd.DataFrame(cosine_sim)\n",
    "\n",
    "sim_df.head(10)"
   ]
  },
  {
   "cell_type": "code",
   "execution_count": null,
   "metadata": {
    "execution": {
     "iopub.execute_input": "2025-02-24T11:42:12.063430Z",
     "iopub.status.busy": "2025-02-24T11:42:12.063139Z",
     "iopub.status.idle": "2025-02-24T11:42:12.084640Z",
     "shell.execute_reply": "2025-02-24T11:42:12.083596Z",
     "shell.execute_reply.started": "2025-02-24T11:42:12.063407Z"
    },
    "trusted": true
   },
   "outputs": [],
   "source": [
    "\n",
    "indices = pd.Series(df.index, index = df['product_name']).drop_duplicates()\n",
    "indices"
   ]
  },
  {
   "cell_type": "markdown",
   "metadata": {},
   "source": [
    "## Recomendation of product"
   ]
  },
  {
   "cell_type": "markdown",
   "metadata": {},
   "source": [
    "### 1. bought product based recommendation"
   ]
  },
  {
   "cell_type": "code",
   "execution_count": null,
   "metadata": {
    "execution": {
     "iopub.execute_input": "2025-02-24T11:42:12.086316Z",
     "iopub.status.busy": "2025-02-24T11:42:12.085969Z",
     "iopub.status.idle": "2025-02-24T11:42:12.092609Z",
     "shell.execute_reply": "2025-02-24T11:42:12.091494Z",
     "shell.execute_reply.started": "2025-02-24T11:42:12.086275Z"
    },
    "trusted": true
   },
   "outputs": [],
   "source": [
    "\n",
    "def recommend_similar_products(product_name, cosine_sim = cosine_sim):\n",
    "  idx = indices[product_name]\n",
    "  linear_scores = list(enumerate(cosine_sim[idx]))\n",
    "  linear_scores = sorted(linear_scores, key = lambda x: x[1], reverse = True)\n",
    "  linear_scores = linear_scores[0:11]\n",
    "  product_indices = [x[0] for x in linear_scores]\n",
    "  scores = [x[1] for x in linear_scores]\n",
    "  lists = list(df['product_name'].iloc[product_indices])\n",
    "  return lists"
   ]
  },
  {
   "cell_type": "code",
   "execution_count": null,
   "metadata": {
    "execution": {
     "iopub.execute_input": "2025-02-24T11:42:12.093868Z",
     "iopub.status.busy": "2025-02-24T11:42:12.093568Z",
     "iopub.status.idle": "2025-02-24T11:42:12.115503Z",
     "shell.execute_reply": "2025-02-24T11:42:12.114512Z",
     "shell.execute_reply.started": "2025-02-24T11:42:12.093846Z"
    },
    "trusted": true
   },
   "outputs": [],
   "source": [
    "product_list = pd.Series(df['product_name'], index = df.index).drop_duplicates()\n",
    "product_list.head(5)"
   ]
  },
  {
   "cell_type": "code",
   "execution_count": null,
   "metadata": {
    "execution": {
     "iopub.execute_input": "2025-02-24T11:42:12.117041Z",
     "iopub.status.busy": "2025-02-24T11:42:12.116656Z",
     "iopub.status.idle": "2025-02-24T11:42:12.138693Z",
     "shell.execute_reply": "2025-02-24T11:42:12.137704Z",
     "shell.execute_reply.started": "2025-02-24T11:42:12.117003Z"
    },
    "trusted": true
   },
   "outputs": [],
   "source": [
    "import random\n",
    "random_number = random.randint(0, 100)\n",
    "random_product_name = product_list[random_number]\n",
    "#random_product_name = \"Sicons All Purpose Arnica Dog Shampoo\"\n",
    "random_product_name"
   ]
  },
  {
   "cell_type": "code",
   "execution_count": null,
   "metadata": {
    "execution": {
     "iopub.execute_input": "2025-02-24T11:42:12.140037Z",
     "iopub.status.busy": "2025-02-24T11:42:12.139674Z",
     "iopub.status.idle": "2025-02-24T11:42:12.169331Z",
     "shell.execute_reply": "2025-02-24T11:42:12.168305Z",
     "shell.execute_reply.started": "2025-02-24T11:42:12.139999Z"
    },
    "trusted": true
   },
   "outputs": [],
   "source": [
    "# Example of recommendation \n",
    "print(\"Below are the recommendations for the product -\",  random_product_name, \"\\n\")\n",
    "print(recommend_similar_products(random_product_name))"
   ]
  },
  {
   "cell_type": "markdown",
   "metadata": {},
   "source": [
    "### 2. search based recommendation"
   ]
  },
  {
   "cell_type": "code",
   "execution_count": null,
   "metadata": {
    "execution": {
     "iopub.execute_input": "2025-02-24T11:42:12.170688Z",
     "iopub.status.busy": "2025-02-24T11:42:12.170289Z",
     "iopub.status.idle": "2025-02-24T11:42:12.182063Z",
     "shell.execute_reply": "2025-02-24T11:42:12.181112Z",
     "shell.execute_reply.started": "2025-02-24T11:42:12.170651Z"
    },
    "trusted": true
   },
   "outputs": [],
   "source": [
    "\n",
    "def find_similar_products(search_term, data_frame, top_n=25):\n",
    "    descriptions = data_frame['description'].fillna('').str.lower()\n",
    "    vectorizer = TfidfVectorizer(stop_words='english')\n",
    "    tfidf_matrix = vectorizer.fit_transform(descriptions)\n",
    "    search_vector = vectorizer.transform([search_term.lower()])\n",
    "    similarity_scores = cosine_similarity(search_vector, tfidf_matrix).flatten()\n",
    "    data_frame['similarity_score'] = similarity_scores\n",
    "    # df = df.sort_values(by='similarity_score', ascending=False)\n",
    "    similar_products = data_frame.drop_duplicates(subset='similarity_score',keep='first').sort_values(by='similarity_score',ascending = False).head(top_n).reset_index(drop=True)\n",
    "    # similar_products = df.sort_values(by='similarity_score', ascending=False).unique().head(top_n).reset_index(drop=True)\n",
    "    return similar_products['product_name']"
   ]
  },
  {
   "cell_type": "code",
   "execution_count": null,
   "metadata": {
    "execution": {
     "iopub.execute_input": "2025-02-24T11:42:12.183381Z",
     "iopub.status.busy": "2025-02-24T11:42:12.182982Z",
     "iopub.status.idle": "2025-02-24T11:42:13.375101Z",
     "shell.execute_reply": "2025-02-24T11:42:13.374116Z",
     "shell.execute_reply.started": "2025-02-24T11:42:12.183326Z"
    },
    "trusted": true
   },
   "outputs": [],
   "source": [
    "similar_products = find_similar_products('shoes', df)\n",
    "similar_products.to_list()"
   ]
  },
  {
   "cell_type": "markdown",
   "metadata": {},
   "source": [
    "## Recent trend products\n",
    "#### 2 months trend .\n"
   ]
  },
  {
   "cell_type": "code",
   "execution_count": null,
   "metadata": {
    "execution": {
     "iopub.execute_input": "2025-02-24T11:42:13.376278Z",
     "iopub.status.busy": "2025-02-24T11:42:13.375982Z",
     "iopub.status.idle": "2025-02-24T11:42:13.382009Z",
     "shell.execute_reply": "2025-02-24T11:42:13.380904Z",
     "shell.execute_reply.started": "2025-02-24T11:42:13.376252Z"
    },
    "trusted": true
   },
   "outputs": [],
   "source": [
    "import re\n",
    "def process_row(text):\n",
    "  pattern = r'(\\d+\\.?\\d*)\\s*(mg|ml|l|ML|MG|L|Mg|Tablet)(?:\\b|$)'\n",
    "  match = re.search(pattern, text)\n",
    "\n",
    "  if match:\n",
    "      value, unit = match.groups()\n",
    "      # Standardize unit to lowercase\n",
    "      unit = unit.lower()\n",
    "      # Remove the quantity part from product name\n",
    "      name = re.sub(pattern, '', text).strip()\n",
    "      return pd.Series([name, float(value), unit])\n",
    "  else:\n",
    "      # If no quantity found, return original text as name\n",
    "      return pd.Series([text, None, ''])\n"
   ]
  },
  {
   "cell_type": "code",
   "execution_count": null,
   "metadata": {
    "execution": {
     "iopub.execute_input": "2025-02-24T11:42:40.457886Z",
     "iopub.status.busy": "2025-02-24T11:42:40.457565Z",
     "iopub.status.idle": "2025-02-24T11:42:40.463485Z",
     "shell.execute_reply": "2025-02-24T11:42:40.462297Z",
     "shell.execute_reply.started": "2025-02-24T11:42:40.457861Z"
    },
    "trusted": true
   },
   "outputs": [],
   "source": [
    "from datetime import datetime, timedelta\n",
    "\n",
    "def find_trending_products(df):\n",
    "  df['crawl_timestamp'] = pd.to_datetime(df['crawl_timestamp'])\n",
    "  latest_date = df['crawl_timestamp'].max()\n",
    "  two_months_ago = latest_date - timedelta(days=62)\n",
    "  recent_transactions = df[df['crawl_timestamp'] >= two_months_ago]\n",
    "  trending_products = recent_transactions['product_name'].value_counts().sort_values(ascending=False)\n",
    "  trending_products\n",
    "  return trending_products"
   ]
  },
  {
   "cell_type": "code",
   "execution_count": null,
   "metadata": {
    "execution": {
     "iopub.execute_input": "2025-02-24T11:43:07.984938Z",
     "iopub.status.busy": "2025-02-24T11:43:07.984605Z",
     "iopub.status.idle": "2025-02-24T11:43:08.011655Z",
     "shell.execute_reply": "2025-02-24T11:43:08.010767Z",
     "shell.execute_reply.started": "2025-02-24T11:43:07.984912Z"
    },
    "trusted": true
   },
   "outputs": [],
   "source": [
    "# testing the trend product.\n",
    "trending_products = find_trending_products(df)\n",
    "trending_products"
   ]
  },
  {
   "cell_type": "code",
   "execution_count": null,
   "metadata": {
    "execution": {
     "iopub.execute_input": "2025-02-24T12:04:34.686088Z",
     "iopub.status.busy": "2025-02-24T12:04:34.685687Z",
     "iopub.status.idle": "2025-02-24T12:04:34.705755Z",
     "shell.execute_reply": "2025-02-24T12:04:34.704555Z",
     "shell.execute_reply.started": "2025-02-24T12:04:34.686052Z"
    },
    "trusted": true
   },
   "outputs": [],
   "source": [
    "df.head()"
   ]
  },
  {
   "cell_type": "code",
   "execution_count": null,
   "metadata": {
    "execution": {
     "iopub.execute_input": "2025-02-24T12:06:09.492257Z",
     "iopub.status.busy": "2025-02-24T12:06:09.491875Z",
     "iopub.status.idle": "2025-02-24T12:06:09.511856Z",
     "shell.execute_reply": "2025-02-24T12:06:09.510740Z",
     "shell.execute_reply.started": "2025-02-24T12:06:09.492226Z"
    },
    "trusted": true
   },
   "outputs": [],
   "source": [
    "df['uniq_id'].value_counts()"
   ]
  },
  {
   "cell_type": "code",
   "execution_count": null,
   "metadata": {
    "trusted": true
   },
   "outputs": [],
   "source": []
  }
 ],
 "metadata": {
  "kaggle": {
   "accelerator": "none",
   "dataSources": [
    {
     "datasetId": 1878064,
     "sourceId": 3068095,
     "sourceType": "datasetVersion"
    }
   ],
   "dockerImageVersionId": 30918,
   "isGpuEnabled": false,
   "isInternetEnabled": true,
   "language": "python",
   "sourceType": "notebook"
  },
  "kernelspec": {
   "display_name": "Python 3",
   "language": "python",
   "name": "python3"
  },
  "language_info": {
   "codemirror_mode": {
    "name": "ipython",
    "version": 3
   },
   "file_extension": ".py",
   "mimetype": "text/x-python",
   "name": "python",
   "nbconvert_exporter": "python",
   "pygments_lexer": "ipython3",
   "version": "3.10.12"
  }
 },
 "nbformat": 4,
 "nbformat_minor": 4
}
